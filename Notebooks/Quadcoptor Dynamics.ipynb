{
 "cells": [
  {
   "cell_type": "markdown",
   "metadata": {},
   "source": [
    "<b style=\"font-size:2vw\"><center>Inverted Pendulum on a Cart</center></b>\n",
    "\n",
    "<center><i><b>Document by:</b> Matt Capuano <i></center>"
   ]
  },
  {
   "cell_type": "markdown",
   "metadata": {},
   "source": [
    "**References:**\n",
    "\n",
    "https://towardsdatascience.com/demystifying-drone-dynamics-ee98b1ba882f\n",
    "https://catsr.vse.gmu.edu/SYST460/QuadcopterDynamics.pdf\n",
    "https://www.wilselby.com/research/arducopter/modeling/\n",
    "https://charlestytler.com/quadcopter-equations-motion/\n",
    "http://home.iitb.ac.in/~pradeepsarin/teaching/pub/Fall_2013_up/Reports/07_Quadcopter-final-report.pdf\n",
    "https://andrew.gibiansky.com/downloads/pdf/Quadcopter%20Dynamics,%20Simulation,%20and%20Control.pdf\n",
    "https://sal.aalto.fi/publications/pdf-files/eluu11_public.pdf\n",
    "https://citeseerx.ist.psu.edu/viewdoc/download?doi=10.1.1.77.9015&rep=rep1&type=pdf\n",
    "\n",
    "\n",
    "https://en.wikipedia.org/wiki/Flight_dynamics_(fixed-wing_aircraft)"
   ]
  },
  {
   "cell_type": "code",
   "execution_count": null,
   "metadata": {},
   "outputs": [],
   "source": []
  }
 ],
 "metadata": {
  "kernelspec": {
   "display_name": "Python 3",
   "language": "python",
   "name": "python3"
  },
  "language_info": {
   "codemirror_mode": {
    "name": "ipython",
    "version": 3
   },
   "file_extension": ".py",
   "mimetype": "text/x-python",
   "name": "python",
   "nbconvert_exporter": "python",
   "pygments_lexer": "ipython3",
   "version": "3.8.2"
  },
  "toc": {
   "base_numbering": 1,
   "nav_menu": {},
   "number_sections": true,
   "sideBar": true,
   "skip_h1_title": false,
   "title_cell": "Table of Contents",
   "title_sidebar": "Contents",
   "toc_cell": false,
   "toc_position": {},
   "toc_section_display": true,
   "toc_window_display": false
  }
 },
 "nbformat": 4,
 "nbformat_minor": 4
}
