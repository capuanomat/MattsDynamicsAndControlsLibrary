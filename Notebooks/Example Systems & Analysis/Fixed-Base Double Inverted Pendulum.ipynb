{
 "cells": [
  {
   "cell_type": "markdown",
   "metadata": {},
   "source": [
    "<b style=\"font-size:2vw\"><center>Fixed-Base Double Inverted Pendulum</center></b>\n",
    "\n",
    "<center><i><b>Document by:</b> Matt Capuano <i></center>"
   ]
  },
  {
   "cell_type": "markdown",
   "metadata": {},
   "source": [
    "<h3> Resources </h3>\n",
    "\n",
    "https://www.moorepants.info/blog/npendulum.html <br>\n",
    "http://jakevdp.github.io/blog/2017/03/08/triple-pendulum-chaos/ <br>\n",
    "https://scipython.com/blog/the-double-pendulum/ <br>\n",
    "Making gifs from set of images: https://www.imagemagick.org/script/index.php\n",
    "\n",
    "3D Visualization in Jupyter Notebook"
   ]
  },
  {
   "cell_type": "markdown",
   "metadata": {},
   "source": [
    "**This example is from:** https://scipython.com/blog/the-double-pendulum/"
   ]
  },
  {
   "cell_type": "code",
   "execution_count": null,
   "metadata": {},
   "outputs": [],
   "source": []
  }
 ],
 "metadata": {
  "kernelspec": {
   "display_name": "Python 3",
   "language": "python",
   "name": "python3"
  },
  "language_info": {
   "codemirror_mode": {
    "name": "ipython",
    "version": 3
   },
   "file_extension": ".py",
   "mimetype": "text/x-python",
   "name": "python",
   "nbconvert_exporter": "python",
   "pygments_lexer": "ipython3",
   "version": "3.8.2"
  },
  "toc": {
   "base_numbering": 1,
   "nav_menu": {},
   "number_sections": true,
   "sideBar": true,
   "skip_h1_title": false,
   "title_cell": "Table of Contents",
   "title_sidebar": "Contents",
   "toc_cell": false,
   "toc_position": {},
   "toc_section_display": true,
   "toc_window_display": false
  }
 },
 "nbformat": 4,
 "nbformat_minor": 4
}
